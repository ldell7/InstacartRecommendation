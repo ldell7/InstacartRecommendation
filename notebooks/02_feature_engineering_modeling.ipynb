{
 "cells": [
  {
   "cell_type": "markdown",
   "metadata": {},
   "source": [
    "# Instacart Recommendation System: Feature Engineering and Modeling"
   ]
  },
  {
   "cell_type": "markdown",
   "metadata": {},
   "source": [
    "## Notebook by Lauren Dellon"
   ]
  },
  {
   "cell_type": "markdown",
   "metadata": {},
   "source": [
    "## Imports"
   ]
  },
  {
   "cell_type": "code",
   "execution_count": 1,
   "metadata": {},
   "outputs": [],
   "source": [
    "import pandas as pd\n",
    "import numpy as np\n",
    "import matplotlib.pyplot as plt\n",
    "import seaborn as sns\n",
    "from library.sb_utils import save_file"
   ]
  },
  {
   "cell_type": "markdown",
   "metadata": {},
   "source": [
    "## Read files"
   ]
  },
  {
   "cell_type": "code",
   "execution_count": 2,
   "metadata": {},
   "outputs": [],
   "source": [
    "aisles = pd.read_csv('/Users/laurendellon/Documents/Springboard/Capstone_3_Docs/aisles.csv')\n",
    "departments = pd.read_csv('/Users/laurendellon/Documents/Springboard/Capstone_3_Docs/departments.csv')\n",
    "products = pd.read_csv('/Users/laurendellon/Documents/Springboard/Capstone_3_Docs/products.csv')\n",
    "orders = pd.read_csv('/Users/laurendellon/Documents/Springboard/Capstone_3_Docs/orders.csv')\n",
    "order_products_prior = pd.read_csv('/Users/laurendellon/Documents/Springboard/Capstone_3_Docs/order_products__prior.csv')\n",
    "order_products_train = pd.read_csv('/Users/laurendellon/Documents/Springboard/Capstone_3_Docs/order_products__train.csv')"
   ]
  },
  {
   "cell_type": "markdown",
   "metadata": {},
   "source": [
    "## Merge order_products_prior with orders"
   ]
  },
  {
   "cell_type": "code",
   "execution_count": 3,
   "metadata": {},
   "outputs": [
    {
     "data": {
      "text/html": [
       "<div>\n",
       "<style scoped>\n",
       "    .dataframe tbody tr th:only-of-type {\n",
       "        vertical-align: middle;\n",
       "    }\n",
       "\n",
       "    .dataframe tbody tr th {\n",
       "        vertical-align: top;\n",
       "    }\n",
       "\n",
       "    .dataframe thead th {\n",
       "        text-align: right;\n",
       "    }\n",
       "</style>\n",
       "<table border=\"1\" class=\"dataframe\">\n",
       "  <thead>\n",
       "    <tr style=\"text-align: right;\">\n",
       "      <th></th>\n",
       "      <th>order_id</th>\n",
       "      <th>product_id</th>\n",
       "      <th>add_to_cart_order</th>\n",
       "      <th>reordered</th>\n",
       "      <th>user_id</th>\n",
       "      <th>eval_set</th>\n",
       "      <th>order_number</th>\n",
       "      <th>order_dow</th>\n",
       "      <th>order_hour_of_day</th>\n",
       "      <th>days_since_prior_order</th>\n",
       "    </tr>\n",
       "  </thead>\n",
       "  <tbody>\n",
       "    <tr>\n",
       "      <th>0</th>\n",
       "      <td>2</td>\n",
       "      <td>33120</td>\n",
       "      <td>1</td>\n",
       "      <td>1</td>\n",
       "      <td>202279</td>\n",
       "      <td>prior</td>\n",
       "      <td>3</td>\n",
       "      <td>5</td>\n",
       "      <td>9</td>\n",
       "      <td>8.0</td>\n",
       "    </tr>\n",
       "    <tr>\n",
       "      <th>1</th>\n",
       "      <td>2</td>\n",
       "      <td>28985</td>\n",
       "      <td>2</td>\n",
       "      <td>1</td>\n",
       "      <td>202279</td>\n",
       "      <td>prior</td>\n",
       "      <td>3</td>\n",
       "      <td>5</td>\n",
       "      <td>9</td>\n",
       "      <td>8.0</td>\n",
       "    </tr>\n",
       "    <tr>\n",
       "      <th>2</th>\n",
       "      <td>2</td>\n",
       "      <td>9327</td>\n",
       "      <td>3</td>\n",
       "      <td>0</td>\n",
       "      <td>202279</td>\n",
       "      <td>prior</td>\n",
       "      <td>3</td>\n",
       "      <td>5</td>\n",
       "      <td>9</td>\n",
       "      <td>8.0</td>\n",
       "    </tr>\n",
       "    <tr>\n",
       "      <th>3</th>\n",
       "      <td>2</td>\n",
       "      <td>45918</td>\n",
       "      <td>4</td>\n",
       "      <td>1</td>\n",
       "      <td>202279</td>\n",
       "      <td>prior</td>\n",
       "      <td>3</td>\n",
       "      <td>5</td>\n",
       "      <td>9</td>\n",
       "      <td>8.0</td>\n",
       "    </tr>\n",
       "    <tr>\n",
       "      <th>4</th>\n",
       "      <td>2</td>\n",
       "      <td>30035</td>\n",
       "      <td>5</td>\n",
       "      <td>0</td>\n",
       "      <td>202279</td>\n",
       "      <td>prior</td>\n",
       "      <td>3</td>\n",
       "      <td>5</td>\n",
       "      <td>9</td>\n",
       "      <td>8.0</td>\n",
       "    </tr>\n",
       "  </tbody>\n",
       "</table>\n",
       "</div>"
      ],
      "text/plain": [
       "   order_id  product_id  add_to_cart_order  reordered  user_id eval_set  \\\n",
       "0         2       33120                  1          1   202279    prior   \n",
       "1         2       28985                  2          1   202279    prior   \n",
       "2         2        9327                  3          0   202279    prior   \n",
       "3         2       45918                  4          1   202279    prior   \n",
       "4         2       30035                  5          0   202279    prior   \n",
       "\n",
       "   order_number  order_dow  order_hour_of_day  days_since_prior_order  \n",
       "0             3          5                  9                     8.0  \n",
       "1             3          5                  9                     8.0  \n",
       "2             3          5                  9                     8.0  \n",
       "3             3          5                  9                     8.0  \n",
       "4             3          5                  9                     8.0  "
      ]
     },
     "execution_count": 3,
     "metadata": {},
     "output_type": "execute_result"
    }
   ],
   "source": [
    "order_products_complete = pd.merge(order_products_prior, orders, on='order_id')\n",
    "order_products_complete.head()"
   ]
  },
  {
   "cell_type": "markdown",
   "metadata": {},
   "source": [
    "## Merge products with aisles and departments"
   ]
  },
  {
   "cell_type": "code",
   "execution_count": 4,
   "metadata": {},
   "outputs": [
    {
     "data": {
      "text/html": [
       "<div>\n",
       "<style scoped>\n",
       "    .dataframe tbody tr th:only-of-type {\n",
       "        vertical-align: middle;\n",
       "    }\n",
       "\n",
       "    .dataframe tbody tr th {\n",
       "        vertical-align: top;\n",
       "    }\n",
       "\n",
       "    .dataframe thead th {\n",
       "        text-align: right;\n",
       "    }\n",
       "</style>\n",
       "<table border=\"1\" class=\"dataframe\">\n",
       "  <thead>\n",
       "    <tr style=\"text-align: right;\">\n",
       "      <th></th>\n",
       "      <th>product_id</th>\n",
       "      <th>product_name</th>\n",
       "      <th>aisle_id</th>\n",
       "      <th>department_id</th>\n",
       "      <th>aisle</th>\n",
       "      <th>department</th>\n",
       "    </tr>\n",
       "  </thead>\n",
       "  <tbody>\n",
       "    <tr>\n",
       "      <th>0</th>\n",
       "      <td>1</td>\n",
       "      <td>Chocolate Sandwich Cookies</td>\n",
       "      <td>61</td>\n",
       "      <td>19</td>\n",
       "      <td>cookies cakes</td>\n",
       "      <td>snacks</td>\n",
       "    </tr>\n",
       "    <tr>\n",
       "      <th>1</th>\n",
       "      <td>2</td>\n",
       "      <td>All-Seasons Salt</td>\n",
       "      <td>104</td>\n",
       "      <td>13</td>\n",
       "      <td>spices seasonings</td>\n",
       "      <td>pantry</td>\n",
       "    </tr>\n",
       "    <tr>\n",
       "      <th>2</th>\n",
       "      <td>3</td>\n",
       "      <td>Robust Golden Unsweetened Oolong Tea</td>\n",
       "      <td>94</td>\n",
       "      <td>7</td>\n",
       "      <td>tea</td>\n",
       "      <td>beverages</td>\n",
       "    </tr>\n",
       "    <tr>\n",
       "      <th>3</th>\n",
       "      <td>4</td>\n",
       "      <td>Smart Ones Classic Favorites Mini Rigatoni Wit...</td>\n",
       "      <td>38</td>\n",
       "      <td>1</td>\n",
       "      <td>frozen meals</td>\n",
       "      <td>frozen</td>\n",
       "    </tr>\n",
       "    <tr>\n",
       "      <th>4</th>\n",
       "      <td>5</td>\n",
       "      <td>Green Chile Anytime Sauce</td>\n",
       "      <td>5</td>\n",
       "      <td>13</td>\n",
       "      <td>marinades meat preparation</td>\n",
       "      <td>pantry</td>\n",
       "    </tr>\n",
       "  </tbody>\n",
       "</table>\n",
       "</div>"
      ],
      "text/plain": [
       "   product_id                                       product_name  aisle_id  \\\n",
       "0           1                         Chocolate Sandwich Cookies        61   \n",
       "1           2                                   All-Seasons Salt       104   \n",
       "2           3               Robust Golden Unsweetened Oolong Tea        94   \n",
       "3           4  Smart Ones Classic Favorites Mini Rigatoni Wit...        38   \n",
       "4           5                          Green Chile Anytime Sauce         5   \n",
       "\n",
       "   department_id                       aisle department  \n",
       "0             19               cookies cakes     snacks  \n",
       "1             13           spices seasonings     pantry  \n",
       "2              7                         tea  beverages  \n",
       "3              1                frozen meals     frozen  \n",
       "4             13  marinades meat preparation     pantry  "
      ]
     },
     "execution_count": 4,
     "metadata": {},
     "output_type": "execute_result"
    }
   ],
   "source": [
    "products_merged = pd.merge(products, aisles, on='aisle_id', how='left')\n",
    "products_merged = pd.merge(products_merged, departments, on='department_id', how='left')\n",
    "products_merged.head()"
   ]
  },
  {
   "cell_type": "markdown",
   "metadata": {},
   "source": [
    "## Merge order_products_prior with products_merged"
   ]
  },
  {
   "cell_type": "code",
   "execution_count": 5,
   "metadata": {},
   "outputs": [
    {
     "data": {
      "text/html": [
       "<div>\n",
       "<style scoped>\n",
       "    .dataframe tbody tr th:only-of-type {\n",
       "        vertical-align: middle;\n",
       "    }\n",
       "\n",
       "    .dataframe tbody tr th {\n",
       "        vertical-align: top;\n",
       "    }\n",
       "\n",
       "    .dataframe thead th {\n",
       "        text-align: right;\n",
       "    }\n",
       "</style>\n",
       "<table border=\"1\" class=\"dataframe\">\n",
       "  <thead>\n",
       "    <tr style=\"text-align: right;\">\n",
       "      <th></th>\n",
       "      <th>order_id</th>\n",
       "      <th>product_id</th>\n",
       "      <th>add_to_cart_order</th>\n",
       "      <th>reordered</th>\n",
       "      <th>product_name</th>\n",
       "      <th>aisle_id</th>\n",
       "      <th>department_id</th>\n",
       "      <th>aisle</th>\n",
       "      <th>department</th>\n",
       "    </tr>\n",
       "  </thead>\n",
       "  <tbody>\n",
       "    <tr>\n",
       "      <th>0</th>\n",
       "      <td>2</td>\n",
       "      <td>33120</td>\n",
       "      <td>1</td>\n",
       "      <td>1</td>\n",
       "      <td>Organic Egg Whites</td>\n",
       "      <td>86</td>\n",
       "      <td>16</td>\n",
       "      <td>eggs</td>\n",
       "      <td>dairy eggs</td>\n",
       "    </tr>\n",
       "    <tr>\n",
       "      <th>1</th>\n",
       "      <td>26</td>\n",
       "      <td>33120</td>\n",
       "      <td>5</td>\n",
       "      <td>0</td>\n",
       "      <td>Organic Egg Whites</td>\n",
       "      <td>86</td>\n",
       "      <td>16</td>\n",
       "      <td>eggs</td>\n",
       "      <td>dairy eggs</td>\n",
       "    </tr>\n",
       "    <tr>\n",
       "      <th>2</th>\n",
       "      <td>120</td>\n",
       "      <td>33120</td>\n",
       "      <td>13</td>\n",
       "      <td>0</td>\n",
       "      <td>Organic Egg Whites</td>\n",
       "      <td>86</td>\n",
       "      <td>16</td>\n",
       "      <td>eggs</td>\n",
       "      <td>dairy eggs</td>\n",
       "    </tr>\n",
       "    <tr>\n",
       "      <th>3</th>\n",
       "      <td>327</td>\n",
       "      <td>33120</td>\n",
       "      <td>5</td>\n",
       "      <td>1</td>\n",
       "      <td>Organic Egg Whites</td>\n",
       "      <td>86</td>\n",
       "      <td>16</td>\n",
       "      <td>eggs</td>\n",
       "      <td>dairy eggs</td>\n",
       "    </tr>\n",
       "    <tr>\n",
       "      <th>4</th>\n",
       "      <td>390</td>\n",
       "      <td>33120</td>\n",
       "      <td>28</td>\n",
       "      <td>1</td>\n",
       "      <td>Organic Egg Whites</td>\n",
       "      <td>86</td>\n",
       "      <td>16</td>\n",
       "      <td>eggs</td>\n",
       "      <td>dairy eggs</td>\n",
       "    </tr>\n",
       "  </tbody>\n",
       "</table>\n",
       "</div>"
      ],
      "text/plain": [
       "   order_id  product_id  add_to_cart_order  reordered        product_name  \\\n",
       "0         2       33120                  1          1  Organic Egg Whites   \n",
       "1        26       33120                  5          0  Organic Egg Whites   \n",
       "2       120       33120                 13          0  Organic Egg Whites   \n",
       "3       327       33120                  5          1  Organic Egg Whites   \n",
       "4       390       33120                 28          1  Organic Egg Whites   \n",
       "\n",
       "   aisle_id  department_id aisle  department  \n",
       "0        86             16  eggs  dairy eggs  \n",
       "1        86             16  eggs  dairy eggs  \n",
       "2        86             16  eggs  dairy eggs  \n",
       "3        86             16  eggs  dairy eggs  \n",
       "4        86             16  eggs  dairy eggs  "
      ]
     },
     "execution_count": 5,
     "metadata": {},
     "output_type": "execute_result"
    }
   ],
   "source": [
    "order_products_merged = pd.merge(order_products_prior, products_merged, on='product_id')\n",
    "order_products_merged.head()"
   ]
  },
  {
   "cell_type": "markdown",
   "metadata": {},
   "source": [
    "## CREATING FEATURES FOR USERS"
   ]
  },
  {
   "cell_type": "markdown",
   "metadata": {},
   "source": [
    "### Reordered ratio of each user"
   ]
  },
  {
   "cell_type": "code",
   "execution_count": 6,
   "metadata": {},
   "outputs": [],
   "source": [
    "user_reorder_ratio = pd.DataFrame(order_products_complete.groupby('user_id')['reordered'].aggregate('mean')).reset_index()\n",
    "user_reorder_ratio = user_reorder_ratio.rename(columns={'reordered':'user_reorder_ratio'})"
   ]
  },
  {
   "cell_type": "markdown",
   "metadata": {},
   "source": [
    "### Total number of orders of each user"
   ]
  },
  {
   "cell_type": "code",
   "execution_count": 7,
   "metadata": {},
   "outputs": [],
   "source": [
    "user_total_orders = pd.DataFrame(order_products_complete.groupby('user_id')['order_number'].aggregate('max')).reset_index()\n",
    "user_total_orders = user_total_orders.rename(columns={'order_number':'user_total_orders'})"
   ]
  },
  {
   "cell_type": "markdown",
   "metadata": {},
   "source": [
    "### Total items purchased by each user"
   ]
  },
  {
   "cell_type": "code",
   "execution_count": 8,
   "metadata": {},
   "outputs": [],
   "source": [
    "user_total_items = pd.DataFrame(order_products_complete.groupby('user_id')['add_to_cart_order'].aggregate('count')).reset_index()\n",
    "user_total_items = user_total_items.rename(columns={'add_to_cart_order':'user_total_items'})"
   ]
  },
  {
   "cell_type": "markdown",
   "metadata": {},
   "source": [
    "### Average days since prior order for each user"
   ]
  },
  {
   "cell_type": "code",
   "execution_count": 9,
   "metadata": {},
   "outputs": [],
   "source": [
    "user_avg_days = pd.DataFrame(order_products_complete.groupby(['user_id'])['days_since_prior_order'].aggregate('mean')).reset_index()\n",
    "user_avg_days = user_avg_days.rename(columns={'days_since_prior_order':'user_avg_days'})"
   ]
  },
  {
   "cell_type": "markdown",
   "metadata": {},
   "source": [
    "### Average basket size of each user\n"
   ]
  },
  {
   "cell_type": "code",
   "execution_count": 10,
   "metadata": {},
   "outputs": [],
   "source": [
    "basket_size = pd.DataFrame(order_products_complete.groupby(['user_id','order_number'])['add_to_cart_order'].aggregate('max')).reset_index()\n",
    "user_avg_basket_size = pd.DataFrame(basket_size.groupby(['user_id'])['add_to_cart_order'].aggregate('mean')).reset_index()\n",
    "user_avg_basket_size = user_avg_basket_size.rename(columns={'add_to_cart_order':'user_avg_basket_size'})"
   ]
  },
  {
   "cell_type": "markdown",
   "metadata": {},
   "source": [
    "### Merge all features for users"
   ]
  },
  {
   "cell_type": "code",
   "execution_count": 11,
   "metadata": {},
   "outputs": [
    {
     "data": {
      "text/html": [
       "<div>\n",
       "<style scoped>\n",
       "    .dataframe tbody tr th:only-of-type {\n",
       "        vertical-align: middle;\n",
       "    }\n",
       "\n",
       "    .dataframe tbody tr th {\n",
       "        vertical-align: top;\n",
       "    }\n",
       "\n",
       "    .dataframe thead th {\n",
       "        text-align: right;\n",
       "    }\n",
       "</style>\n",
       "<table border=\"1\" class=\"dataframe\">\n",
       "  <thead>\n",
       "    <tr style=\"text-align: right;\">\n",
       "      <th></th>\n",
       "      <th>user_id</th>\n",
       "      <th>user_reorder_ratio</th>\n",
       "      <th>user_total_orders</th>\n",
       "      <th>user_total_items</th>\n",
       "      <th>user_avg_days</th>\n",
       "      <th>user_avg_basket_size</th>\n",
       "    </tr>\n",
       "  </thead>\n",
       "  <tbody>\n",
       "    <tr>\n",
       "      <th>0</th>\n",
       "      <td>1</td>\n",
       "      <td>0.694915</td>\n",
       "      <td>10</td>\n",
       "      <td>59</td>\n",
       "      <td>20.259259</td>\n",
       "      <td>5.900000</td>\n",
       "    </tr>\n",
       "    <tr>\n",
       "      <th>1</th>\n",
       "      <td>2</td>\n",
       "      <td>0.476923</td>\n",
       "      <td>14</td>\n",
       "      <td>195</td>\n",
       "      <td>15.967033</td>\n",
       "      <td>13.928571</td>\n",
       "    </tr>\n",
       "    <tr>\n",
       "      <th>2</th>\n",
       "      <td>3</td>\n",
       "      <td>0.625000</td>\n",
       "      <td>12</td>\n",
       "      <td>88</td>\n",
       "      <td>11.487179</td>\n",
       "      <td>7.333333</td>\n",
       "    </tr>\n",
       "    <tr>\n",
       "      <th>3</th>\n",
       "      <td>4</td>\n",
       "      <td>0.055556</td>\n",
       "      <td>5</td>\n",
       "      <td>18</td>\n",
       "      <td>15.357143</td>\n",
       "      <td>3.600000</td>\n",
       "    </tr>\n",
       "    <tr>\n",
       "      <th>4</th>\n",
       "      <td>5</td>\n",
       "      <td>0.378378</td>\n",
       "      <td>4</td>\n",
       "      <td>37</td>\n",
       "      <td>14.500000</td>\n",
       "      <td>9.250000</td>\n",
       "    </tr>\n",
       "  </tbody>\n",
       "</table>\n",
       "</div>"
      ],
      "text/plain": [
       "   user_id  user_reorder_ratio  user_total_orders  user_total_items  \\\n",
       "0        1            0.694915                 10                59   \n",
       "1        2            0.476923                 14               195   \n",
       "2        3            0.625000                 12                88   \n",
       "3        4            0.055556                  5                18   \n",
       "4        5            0.378378                  4                37   \n",
       "\n",
       "   user_avg_days  user_avg_basket_size  \n",
       "0      20.259259              5.900000  \n",
       "1      15.967033             13.928571  \n",
       "2      11.487179              7.333333  \n",
       "3      15.357143              3.600000  \n",
       "4      14.500000              9.250000  "
      ]
     },
     "execution_count": 11,
     "metadata": {},
     "output_type": "execute_result"
    }
   ],
   "source": [
    "user_features = user_reorder_ratio.merge(user_total_orders, on='user_id', how='left')\n",
    "user_features = user_features.merge(user_total_items, on='user_id', how='left')\n",
    "user_features = user_features.merge(user_avg_days, on='user_id', how='left')\n",
    "user_features = user_features.merge(user_avg_basket_size, on='user_id', how='left')\n",
    "user_features.head()"
   ]
  },
  {
   "cell_type": "markdown",
   "metadata": {},
   "source": [
    "## CREATING FEATURE FOR PRODUCTS"
   ]
  },
  {
   "cell_type": "markdown",
   "metadata": {},
   "source": [
    "### Reordered ratio of each product"
   ]
  },
  {
   "cell_type": "code",
   "execution_count": 12,
   "metadata": {},
   "outputs": [],
   "source": [
    "prod_reorder_ratio = pd.DataFrame(order_products_complete.groupby('product_id')['reordered'].agg('mean')).reset_index()\n",
    "prod_reorder_ratio = prod_reorder_ratio.rename(columns={'reordered':'prod_reorder_ratio'})"
   ]
  },
  {
   "cell_type": "markdown",
   "metadata": {},
   "source": [
    "### Number of purchases of each product"
   ]
  },
  {
   "cell_type": "code",
   "execution_count": 13,
   "metadata": {},
   "outputs": [],
   "source": [
    "prod_num_purchases = pd.DataFrame(order_products_complete.groupby('product_id')['order_id'].agg('count')).reset_index()\n",
    "prod_num_purchases = prod_num_purchases.rename(columns={'order_id':'prod_num_purchases'})"
   ]
  },
  {
   "cell_type": "markdown",
   "metadata": {},
   "source": [
    "### Merge all features for products"
   ]
  },
  {
   "cell_type": "code",
   "execution_count": 14,
   "metadata": {},
   "outputs": [
    {
     "data": {
      "text/html": [
       "<div>\n",
       "<style scoped>\n",
       "    .dataframe tbody tr th:only-of-type {\n",
       "        vertical-align: middle;\n",
       "    }\n",
       "\n",
       "    .dataframe tbody tr th {\n",
       "        vertical-align: top;\n",
       "    }\n",
       "\n",
       "    .dataframe thead th {\n",
       "        text-align: right;\n",
       "    }\n",
       "</style>\n",
       "<table border=\"1\" class=\"dataframe\">\n",
       "  <thead>\n",
       "    <tr style=\"text-align: right;\">\n",
       "      <th></th>\n",
       "      <th>product_id</th>\n",
       "      <th>prod_reorder_ratio</th>\n",
       "      <th>prod_num_purchases</th>\n",
       "    </tr>\n",
       "  </thead>\n",
       "  <tbody>\n",
       "    <tr>\n",
       "      <th>0</th>\n",
       "      <td>1</td>\n",
       "      <td>0.613391</td>\n",
       "      <td>1852</td>\n",
       "    </tr>\n",
       "    <tr>\n",
       "      <th>1</th>\n",
       "      <td>2</td>\n",
       "      <td>0.133333</td>\n",
       "      <td>90</td>\n",
       "    </tr>\n",
       "    <tr>\n",
       "      <th>2</th>\n",
       "      <td>3</td>\n",
       "      <td>0.732852</td>\n",
       "      <td>277</td>\n",
       "    </tr>\n",
       "    <tr>\n",
       "      <th>3</th>\n",
       "      <td>4</td>\n",
       "      <td>0.446809</td>\n",
       "      <td>329</td>\n",
       "    </tr>\n",
       "    <tr>\n",
       "      <th>4</th>\n",
       "      <td>5</td>\n",
       "      <td>0.600000</td>\n",
       "      <td>15</td>\n",
       "    </tr>\n",
       "  </tbody>\n",
       "</table>\n",
       "</div>"
      ],
      "text/plain": [
       "   product_id  prod_reorder_ratio  prod_num_purchases\n",
       "0           1            0.613391                1852\n",
       "1           2            0.133333                  90\n",
       "2           3            0.732852                 277\n",
       "3           4            0.446809                 329\n",
       "4           5            0.600000                  15"
      ]
     },
     "execution_count": 14,
     "metadata": {},
     "output_type": "execute_result"
    }
   ],
   "source": [
    "prod_features = prod_reorder_ratio.merge(prod_num_purchases, on='product_id', how='left')\n",
    "prod_features.head()"
   ]
  },
  {
   "cell_type": "markdown",
   "metadata": {},
   "source": [
    "## Create dataframe of users and products"
   ]
  },
  {
   "cell_type": "code",
   "execution_count": 15,
   "metadata": {},
   "outputs": [
    {
     "data": {
      "text/html": [
       "<div>\n",
       "<style scoped>\n",
       "    .dataframe tbody tr th:only-of-type {\n",
       "        vertical-align: middle;\n",
       "    }\n",
       "\n",
       "    .dataframe tbody tr th {\n",
       "        vertical-align: top;\n",
       "    }\n",
       "\n",
       "    .dataframe thead th {\n",
       "        text-align: right;\n",
       "    }\n",
       "</style>\n",
       "<table border=\"1\" class=\"dataframe\">\n",
       "  <thead>\n",
       "    <tr style=\"text-align: right;\">\n",
       "      <th></th>\n",
       "      <th>user_id</th>\n",
       "      <th>product_id</th>\n",
       "    </tr>\n",
       "  </thead>\n",
       "  <tbody>\n",
       "    <tr>\n",
       "      <th>0</th>\n",
       "      <td>1</td>\n",
       "      <td>196</td>\n",
       "    </tr>\n",
       "    <tr>\n",
       "      <th>1</th>\n",
       "      <td>1</td>\n",
       "      <td>10258</td>\n",
       "    </tr>\n",
       "    <tr>\n",
       "      <th>2</th>\n",
       "      <td>1</td>\n",
       "      <td>10326</td>\n",
       "    </tr>\n",
       "    <tr>\n",
       "      <th>3</th>\n",
       "      <td>1</td>\n",
       "      <td>12427</td>\n",
       "    </tr>\n",
       "    <tr>\n",
       "      <th>4</th>\n",
       "      <td>1</td>\n",
       "      <td>13032</td>\n",
       "    </tr>\n",
       "  </tbody>\n",
       "</table>\n",
       "</div>"
      ],
      "text/plain": [
       "   user_id  product_id\n",
       "0        1         196\n",
       "1        1       10258\n",
       "2        1       10326\n",
       "3        1       12427\n",
       "4        1       13032"
      ]
     },
     "execution_count": 15,
     "metadata": {},
     "output_type": "execute_result"
    }
   ],
   "source": [
    "user_products = order_products_complete[['user_id','product_id']]\n",
    "user_products = user_products.sort_values(by=['user_id','product_id'])\n",
    "user_products = user_products.drop_duplicates()\n",
    "user_products = user_products.reset_index(drop=True)\n",
    "user_products.head()"
   ]
  },
  {
   "cell_type": "markdown",
   "metadata": {},
   "source": [
    "## Merge user_products with user features and product features"
   ]
  },
  {
   "cell_type": "code",
   "execution_count": 16,
   "metadata": {},
   "outputs": [
    {
     "data": {
      "text/html": [
       "<div>\n",
       "<style scoped>\n",
       "    .dataframe tbody tr th:only-of-type {\n",
       "        vertical-align: middle;\n",
       "    }\n",
       "\n",
       "    .dataframe tbody tr th {\n",
       "        vertical-align: top;\n",
       "    }\n",
       "\n",
       "    .dataframe thead th {\n",
       "        text-align: right;\n",
       "    }\n",
       "</style>\n",
       "<table border=\"1\" class=\"dataframe\">\n",
       "  <thead>\n",
       "    <tr style=\"text-align: right;\">\n",
       "      <th></th>\n",
       "      <th>user_id</th>\n",
       "      <th>product_id</th>\n",
       "      <th>user_reorder_ratio</th>\n",
       "      <th>user_total_orders</th>\n",
       "      <th>user_total_items</th>\n",
       "      <th>user_avg_days</th>\n",
       "      <th>user_avg_basket_size</th>\n",
       "      <th>prod_reorder_ratio</th>\n",
       "      <th>prod_num_purchases</th>\n",
       "    </tr>\n",
       "  </thead>\n",
       "  <tbody>\n",
       "    <tr>\n",
       "      <th>0</th>\n",
       "      <td>1</td>\n",
       "      <td>196</td>\n",
       "      <td>0.694915</td>\n",
       "      <td>10</td>\n",
       "      <td>59</td>\n",
       "      <td>20.259259</td>\n",
       "      <td>5.9</td>\n",
       "      <td>0.776480</td>\n",
       "      <td>35791</td>\n",
       "    </tr>\n",
       "    <tr>\n",
       "      <th>1</th>\n",
       "      <td>1</td>\n",
       "      <td>10258</td>\n",
       "      <td>0.694915</td>\n",
       "      <td>10</td>\n",
       "      <td>59</td>\n",
       "      <td>20.259259</td>\n",
       "      <td>5.9</td>\n",
       "      <td>0.713772</td>\n",
       "      <td>1946</td>\n",
       "    </tr>\n",
       "    <tr>\n",
       "      <th>2</th>\n",
       "      <td>1</td>\n",
       "      <td>10326</td>\n",
       "      <td>0.694915</td>\n",
       "      <td>10</td>\n",
       "      <td>59</td>\n",
       "      <td>20.259259</td>\n",
       "      <td>5.9</td>\n",
       "      <td>0.652009</td>\n",
       "      <td>5526</td>\n",
       "    </tr>\n",
       "    <tr>\n",
       "      <th>3</th>\n",
       "      <td>1</td>\n",
       "      <td>12427</td>\n",
       "      <td>0.694915</td>\n",
       "      <td>10</td>\n",
       "      <td>59</td>\n",
       "      <td>20.259259</td>\n",
       "      <td>5.9</td>\n",
       "      <td>0.740735</td>\n",
       "      <td>6476</td>\n",
       "    </tr>\n",
       "    <tr>\n",
       "      <th>4</th>\n",
       "      <td>1</td>\n",
       "      <td>13032</td>\n",
       "      <td>0.694915</td>\n",
       "      <td>10</td>\n",
       "      <td>59</td>\n",
       "      <td>20.259259</td>\n",
       "      <td>5.9</td>\n",
       "      <td>0.657158</td>\n",
       "      <td>3751</td>\n",
       "    </tr>\n",
       "  </tbody>\n",
       "</table>\n",
       "</div>"
      ],
      "text/plain": [
       "   user_id  product_id  user_reorder_ratio  user_total_orders  \\\n",
       "0        1         196            0.694915                 10   \n",
       "1        1       10258            0.694915                 10   \n",
       "2        1       10326            0.694915                 10   \n",
       "3        1       12427            0.694915                 10   \n",
       "4        1       13032            0.694915                 10   \n",
       "\n",
       "   user_total_items  user_avg_days  user_avg_basket_size  prod_reorder_ratio  \\\n",
       "0                59      20.259259                   5.9            0.776480   \n",
       "1                59      20.259259                   5.9            0.713772   \n",
       "2                59      20.259259                   5.9            0.652009   \n",
       "3                59      20.259259                   5.9            0.740735   \n",
       "4                59      20.259259                   5.9            0.657158   \n",
       "\n",
       "   prod_num_purchases  \n",
       "0               35791  \n",
       "1                1946  \n",
       "2                5526  \n",
       "3                6476  \n",
       "4                3751  "
      ]
     },
     "execution_count": 16,
     "metadata": {},
     "output_type": "execute_result"
    }
   ],
   "source": [
    "features_df = user_products.merge(user_features, on='user_id', how='left')\n",
    "features_df = features_df.merge(prod_features, on='product_id', how='left')\n",
    "features_df.head()"
   ]
  },
  {
   "cell_type": "markdown",
   "metadata": {},
   "source": [
    "## Merge features_df with original product attributes"
   ]
  },
  {
   "cell_type": "code",
   "execution_count": 17,
   "metadata": {},
   "outputs": [
    {
     "data": {
      "text/html": [
       "<div>\n",
       "<style scoped>\n",
       "    .dataframe tbody tr th:only-of-type {\n",
       "        vertical-align: middle;\n",
       "    }\n",
       "\n",
       "    .dataframe tbody tr th {\n",
       "        vertical-align: top;\n",
       "    }\n",
       "\n",
       "    .dataframe thead th {\n",
       "        text-align: right;\n",
       "    }\n",
       "</style>\n",
       "<table border=\"1\" class=\"dataframe\">\n",
       "  <thead>\n",
       "    <tr style=\"text-align: right;\">\n",
       "      <th></th>\n",
       "      <th>user_id</th>\n",
       "      <th>product_id</th>\n",
       "      <th>user_reorder_ratio</th>\n",
       "      <th>user_total_orders</th>\n",
       "      <th>user_total_items</th>\n",
       "      <th>user_avg_days</th>\n",
       "      <th>user_avg_basket_size</th>\n",
       "      <th>prod_reorder_ratio</th>\n",
       "      <th>prod_num_purchases</th>\n",
       "      <th>aisle_id</th>\n",
       "      <th>department_id</th>\n",
       "    </tr>\n",
       "  </thead>\n",
       "  <tbody>\n",
       "    <tr>\n",
       "      <th>0</th>\n",
       "      <td>1</td>\n",
       "      <td>196</td>\n",
       "      <td>0.694915</td>\n",
       "      <td>10</td>\n",
       "      <td>59</td>\n",
       "      <td>20.259259</td>\n",
       "      <td>5.9</td>\n",
       "      <td>0.776480</td>\n",
       "      <td>35791</td>\n",
       "      <td>77</td>\n",
       "      <td>7</td>\n",
       "    </tr>\n",
       "    <tr>\n",
       "      <th>1</th>\n",
       "      <td>1</td>\n",
       "      <td>10258</td>\n",
       "      <td>0.694915</td>\n",
       "      <td>10</td>\n",
       "      <td>59</td>\n",
       "      <td>20.259259</td>\n",
       "      <td>5.9</td>\n",
       "      <td>0.713772</td>\n",
       "      <td>1946</td>\n",
       "      <td>117</td>\n",
       "      <td>19</td>\n",
       "    </tr>\n",
       "    <tr>\n",
       "      <th>2</th>\n",
       "      <td>1</td>\n",
       "      <td>10326</td>\n",
       "      <td>0.694915</td>\n",
       "      <td>10</td>\n",
       "      <td>59</td>\n",
       "      <td>20.259259</td>\n",
       "      <td>5.9</td>\n",
       "      <td>0.652009</td>\n",
       "      <td>5526</td>\n",
       "      <td>24</td>\n",
       "      <td>4</td>\n",
       "    </tr>\n",
       "    <tr>\n",
       "      <th>3</th>\n",
       "      <td>1</td>\n",
       "      <td>12427</td>\n",
       "      <td>0.694915</td>\n",
       "      <td>10</td>\n",
       "      <td>59</td>\n",
       "      <td>20.259259</td>\n",
       "      <td>5.9</td>\n",
       "      <td>0.740735</td>\n",
       "      <td>6476</td>\n",
       "      <td>23</td>\n",
       "      <td>19</td>\n",
       "    </tr>\n",
       "    <tr>\n",
       "      <th>4</th>\n",
       "      <td>1</td>\n",
       "      <td>13032</td>\n",
       "      <td>0.694915</td>\n",
       "      <td>10</td>\n",
       "      <td>59</td>\n",
       "      <td>20.259259</td>\n",
       "      <td>5.9</td>\n",
       "      <td>0.657158</td>\n",
       "      <td>3751</td>\n",
       "      <td>121</td>\n",
       "      <td>14</td>\n",
       "    </tr>\n",
       "  </tbody>\n",
       "</table>\n",
       "</div>"
      ],
      "text/plain": [
       "   user_id  product_id  user_reorder_ratio  user_total_orders  \\\n",
       "0        1         196            0.694915                 10   \n",
       "1        1       10258            0.694915                 10   \n",
       "2        1       10326            0.694915                 10   \n",
       "3        1       12427            0.694915                 10   \n",
       "4        1       13032            0.694915                 10   \n",
       "\n",
       "   user_total_items  user_avg_days  user_avg_basket_size  prod_reorder_ratio  \\\n",
       "0                59      20.259259                   5.9            0.776480   \n",
       "1                59      20.259259                   5.9            0.713772   \n",
       "2                59      20.259259                   5.9            0.652009   \n",
       "3                59      20.259259                   5.9            0.740735   \n",
       "4                59      20.259259                   5.9            0.657158   \n",
       "\n",
       "   prod_num_purchases  aisle_id  department_id  \n",
       "0               35791        77              7  \n",
       "1                1946       117             19  \n",
       "2                5526        24              4  \n",
       "3                6476        23             19  \n",
       "4                3751       121             14  "
      ]
     },
     "execution_count": 17,
     "metadata": {},
     "output_type": "execute_result"
    }
   ],
   "source": [
    "features_df = features_df.merge(products_merged, on='product_id', how='left')\n",
    "# Drop irrelevant columns\n",
    "features_df = features_df.drop(columns=['product_name','aisle','department'])\n",
    "features_df.head()"
   ]
  },
  {
   "cell_type": "markdown",
   "metadata": {},
   "source": [
    "## Locate training orders"
   ]
  },
  {
   "cell_type": "code",
   "execution_count": 18,
   "metadata": {},
   "outputs": [
    {
     "data": {
      "text/html": [
       "<div>\n",
       "<style scoped>\n",
       "    .dataframe tbody tr th:only-of-type {\n",
       "        vertical-align: middle;\n",
       "    }\n",
       "\n",
       "    .dataframe tbody tr th {\n",
       "        vertical-align: top;\n",
       "    }\n",
       "\n",
       "    .dataframe thead th {\n",
       "        text-align: right;\n",
       "    }\n",
       "</style>\n",
       "<table border=\"1\" class=\"dataframe\">\n",
       "  <thead>\n",
       "    <tr style=\"text-align: right;\">\n",
       "      <th></th>\n",
       "      <th>user_id</th>\n",
       "      <th>product_id</th>\n",
       "      <th>user_reorder_ratio</th>\n",
       "      <th>user_total_orders</th>\n",
       "      <th>user_total_items</th>\n",
       "      <th>user_avg_days</th>\n",
       "      <th>user_avg_basket_size</th>\n",
       "      <th>prod_reorder_ratio</th>\n",
       "      <th>prod_num_purchases</th>\n",
       "      <th>aisle_id</th>\n",
       "      <th>department_id</th>\n",
       "      <th>order_number</th>\n",
       "      <th>order_dow</th>\n",
       "      <th>order_hour_of_day</th>\n",
       "      <th>days_since_prior_order</th>\n",
       "      <th>reordered</th>\n",
       "    </tr>\n",
       "  </thead>\n",
       "  <tbody>\n",
       "    <tr>\n",
       "      <th>0</th>\n",
       "      <td>1</td>\n",
       "      <td>196</td>\n",
       "      <td>0.694915</td>\n",
       "      <td>10</td>\n",
       "      <td>59</td>\n",
       "      <td>20.259259</td>\n",
       "      <td>5.9</td>\n",
       "      <td>0.776480</td>\n",
       "      <td>35791</td>\n",
       "      <td>77</td>\n",
       "      <td>7</td>\n",
       "      <td>11.0</td>\n",
       "      <td>4.0</td>\n",
       "      <td>8.0</td>\n",
       "      <td>14.0</td>\n",
       "      <td>1.0</td>\n",
       "    </tr>\n",
       "    <tr>\n",
       "      <th>1</th>\n",
       "      <td>1</td>\n",
       "      <td>10258</td>\n",
       "      <td>0.694915</td>\n",
       "      <td>10</td>\n",
       "      <td>59</td>\n",
       "      <td>20.259259</td>\n",
       "      <td>5.9</td>\n",
       "      <td>0.713772</td>\n",
       "      <td>1946</td>\n",
       "      <td>117</td>\n",
       "      <td>19</td>\n",
       "      <td>11.0</td>\n",
       "      <td>4.0</td>\n",
       "      <td>8.0</td>\n",
       "      <td>14.0</td>\n",
       "      <td>1.0</td>\n",
       "    </tr>\n",
       "    <tr>\n",
       "      <th>2</th>\n",
       "      <td>1</td>\n",
       "      <td>10326</td>\n",
       "      <td>0.694915</td>\n",
       "      <td>10</td>\n",
       "      <td>59</td>\n",
       "      <td>20.259259</td>\n",
       "      <td>5.9</td>\n",
       "      <td>0.652009</td>\n",
       "      <td>5526</td>\n",
       "      <td>24</td>\n",
       "      <td>4</td>\n",
       "      <td>11.0</td>\n",
       "      <td>4.0</td>\n",
       "      <td>8.0</td>\n",
       "      <td>14.0</td>\n",
       "      <td>0.0</td>\n",
       "    </tr>\n",
       "    <tr>\n",
       "      <th>3</th>\n",
       "      <td>1</td>\n",
       "      <td>12427</td>\n",
       "      <td>0.694915</td>\n",
       "      <td>10</td>\n",
       "      <td>59</td>\n",
       "      <td>20.259259</td>\n",
       "      <td>5.9</td>\n",
       "      <td>0.740735</td>\n",
       "      <td>6476</td>\n",
       "      <td>23</td>\n",
       "      <td>19</td>\n",
       "      <td>11.0</td>\n",
       "      <td>4.0</td>\n",
       "      <td>8.0</td>\n",
       "      <td>14.0</td>\n",
       "      <td>0.0</td>\n",
       "    </tr>\n",
       "    <tr>\n",
       "      <th>4</th>\n",
       "      <td>1</td>\n",
       "      <td>13032</td>\n",
       "      <td>0.694915</td>\n",
       "      <td>10</td>\n",
       "      <td>59</td>\n",
       "      <td>20.259259</td>\n",
       "      <td>5.9</td>\n",
       "      <td>0.657158</td>\n",
       "      <td>3751</td>\n",
       "      <td>121</td>\n",
       "      <td>14</td>\n",
       "      <td>11.0</td>\n",
       "      <td>4.0</td>\n",
       "      <td>8.0</td>\n",
       "      <td>14.0</td>\n",
       "      <td>1.0</td>\n",
       "    </tr>\n",
       "  </tbody>\n",
       "</table>\n",
       "</div>"
      ],
      "text/plain": [
       "   user_id  product_id  user_reorder_ratio  user_total_orders  \\\n",
       "0        1         196            0.694915                 10   \n",
       "1        1       10258            0.694915                 10   \n",
       "2        1       10326            0.694915                 10   \n",
       "3        1       12427            0.694915                 10   \n",
       "4        1       13032            0.694915                 10   \n",
       "\n",
       "   user_total_items  user_avg_days  user_avg_basket_size  prod_reorder_ratio  \\\n",
       "0                59      20.259259                   5.9            0.776480   \n",
       "1                59      20.259259                   5.9            0.713772   \n",
       "2                59      20.259259                   5.9            0.652009   \n",
       "3                59      20.259259                   5.9            0.740735   \n",
       "4                59      20.259259                   5.9            0.657158   \n",
       "\n",
       "   prod_num_purchases  aisle_id  department_id  order_number  order_dow  \\\n",
       "0               35791        77              7          11.0        4.0   \n",
       "1                1946       117             19          11.0        4.0   \n",
       "2                5526        24              4          11.0        4.0   \n",
       "3                6476        23             19          11.0        4.0   \n",
       "4                3751       121             14          11.0        4.0   \n",
       "\n",
       "   order_hour_of_day  days_since_prior_order  reordered  \n",
       "0                8.0                    14.0        1.0  \n",
       "1                8.0                    14.0        1.0  \n",
       "2                8.0                    14.0        0.0  \n",
       "3                8.0                    14.0        0.0  \n",
       "4                8.0                    14.0        1.0  "
      ]
     },
     "execution_count": 18,
     "metadata": {},
     "output_type": "execute_result"
    }
   ],
   "source": [
    "orders_train_test = orders.loc[orders.eval_set == 'train']\n",
    "orders_train_test = features_df.merge(orders_train_test, on='user_id', how='left')\n",
    "orders_train_test = orders_train_test.merge(order_products_train, on=['product_id','order_id'], how='left')\n",
    "# Drop unnecessary columns\n",
    "orders_train_test = orders_train_test.drop(['order_id','eval_set','add_to_cart_order'],axis=1)\n",
    "# Fill NaN's with 0\n",
    "orders_train_test = orders_train_test.fillna(0)\n",
    "orders_train_test.head()"
   ]
  },
  {
   "cell_type": "markdown",
   "metadata": {},
   "source": [
    "## Mean encoding categorical variables (aisle_id and department_id)"
   ]
  },
  {
   "cell_type": "code",
   "execution_count": 19,
   "metadata": {},
   "outputs": [
    {
     "data": {
      "text/html": [
       "<div>\n",
       "<style scoped>\n",
       "    .dataframe tbody tr th:only-of-type {\n",
       "        vertical-align: middle;\n",
       "    }\n",
       "\n",
       "    .dataframe tbody tr th {\n",
       "        vertical-align: top;\n",
       "    }\n",
       "\n",
       "    .dataframe thead th {\n",
       "        text-align: right;\n",
       "    }\n",
       "</style>\n",
       "<table border=\"1\" class=\"dataframe\">\n",
       "  <thead>\n",
       "    <tr style=\"text-align: right;\">\n",
       "      <th></th>\n",
       "      <th>user_id</th>\n",
       "      <th>product_id</th>\n",
       "      <th>user_reorder_ratio</th>\n",
       "      <th>user_total_orders</th>\n",
       "      <th>user_total_items</th>\n",
       "      <th>user_avg_days</th>\n",
       "      <th>user_avg_basket_size</th>\n",
       "      <th>prod_reorder_ratio</th>\n",
       "      <th>prod_num_purchases</th>\n",
       "      <th>aisle_id</th>\n",
       "      <th>department_id</th>\n",
       "      <th>order_number</th>\n",
       "      <th>order_dow</th>\n",
       "      <th>order_hour_of_day</th>\n",
       "      <th>days_since_prior_order</th>\n",
       "      <th>reordered</th>\n",
       "    </tr>\n",
       "  </thead>\n",
       "  <tbody>\n",
       "    <tr>\n",
       "      <th>0</th>\n",
       "      <td>1</td>\n",
       "      <td>196</td>\n",
       "      <td>0.694915</td>\n",
       "      <td>10</td>\n",
       "      <td>59</td>\n",
       "      <td>20.259259</td>\n",
       "      <td>5.9</td>\n",
       "      <td>0.776480</td>\n",
       "      <td>35791</td>\n",
       "      <td>0.081894</td>\n",
       "      <td>0.080516</td>\n",
       "      <td>11.0</td>\n",
       "      <td>4.0</td>\n",
       "      <td>8.0</td>\n",
       "      <td>14.0</td>\n",
       "      <td>1.0</td>\n",
       "    </tr>\n",
       "    <tr>\n",
       "      <th>1</th>\n",
       "      <td>1</td>\n",
       "      <td>10258</td>\n",
       "      <td>0.694915</td>\n",
       "      <td>10</td>\n",
       "      <td>59</td>\n",
       "      <td>20.259259</td>\n",
       "      <td>5.9</td>\n",
       "      <td>0.713772</td>\n",
       "      <td>1946</td>\n",
       "      <td>0.044555</td>\n",
       "      <td>0.056200</td>\n",
       "      <td>11.0</td>\n",
       "      <td>4.0</td>\n",
       "      <td>8.0</td>\n",
       "      <td>14.0</td>\n",
       "      <td>1.0</td>\n",
       "    </tr>\n",
       "    <tr>\n",
       "      <th>2</th>\n",
       "      <td>1</td>\n",
       "      <td>10326</td>\n",
       "      <td>0.694915</td>\n",
       "      <td>10</td>\n",
       "      <td>59</td>\n",
       "      <td>20.259259</td>\n",
       "      <td>5.9</td>\n",
       "      <td>0.652009</td>\n",
       "      <td>5526</td>\n",
       "      <td>0.107899</td>\n",
       "      <td>0.081928</td>\n",
       "      <td>11.0</td>\n",
       "      <td>4.0</td>\n",
       "      <td>8.0</td>\n",
       "      <td>14.0</td>\n",
       "      <td>0.0</td>\n",
       "    </tr>\n",
       "    <tr>\n",
       "      <th>3</th>\n",
       "      <td>1</td>\n",
       "      <td>12427</td>\n",
       "      <td>0.694915</td>\n",
       "      <td>10</td>\n",
       "      <td>59</td>\n",
       "      <td>20.259259</td>\n",
       "      <td>5.9</td>\n",
       "      <td>0.740735</td>\n",
       "      <td>6476</td>\n",
       "      <td>0.061736</td>\n",
       "      <td>0.056200</td>\n",
       "      <td>11.0</td>\n",
       "      <td>4.0</td>\n",
       "      <td>8.0</td>\n",
       "      <td>14.0</td>\n",
       "      <td>0.0</td>\n",
       "    </tr>\n",
       "    <tr>\n",
       "      <th>4</th>\n",
       "      <td>1</td>\n",
       "      <td>13032</td>\n",
       "      <td>0.694915</td>\n",
       "      <td>10</td>\n",
       "      <td>59</td>\n",
       "      <td>20.259259</td>\n",
       "      <td>5.9</td>\n",
       "      <td>0.657158</td>\n",
       "      <td>3751</td>\n",
       "      <td>0.058826</td>\n",
       "      <td>0.054128</td>\n",
       "      <td>11.0</td>\n",
       "      <td>4.0</td>\n",
       "      <td>8.0</td>\n",
       "      <td>14.0</td>\n",
       "      <td>1.0</td>\n",
       "    </tr>\n",
       "  </tbody>\n",
       "</table>\n",
       "</div>"
      ],
      "text/plain": [
       "   user_id  product_id  user_reorder_ratio  user_total_orders  \\\n",
       "0        1         196            0.694915                 10   \n",
       "1        1       10258            0.694915                 10   \n",
       "2        1       10326            0.694915                 10   \n",
       "3        1       12427            0.694915                 10   \n",
       "4        1       13032            0.694915                 10   \n",
       "\n",
       "   user_total_items  user_avg_days  user_avg_basket_size  prod_reorder_ratio  \\\n",
       "0                59      20.259259                   5.9            0.776480   \n",
       "1                59      20.259259                   5.9            0.713772   \n",
       "2                59      20.259259                   5.9            0.652009   \n",
       "3                59      20.259259                   5.9            0.740735   \n",
       "4                59      20.259259                   5.9            0.657158   \n",
       "\n",
       "   prod_num_purchases  aisle_id  department_id  order_number  order_dow  \\\n",
       "0               35791  0.081894       0.080516          11.0        4.0   \n",
       "1                1946  0.044555       0.056200          11.0        4.0   \n",
       "2                5526  0.107899       0.081928          11.0        4.0   \n",
       "3                6476  0.061736       0.056200          11.0        4.0   \n",
       "4                3751  0.058826       0.054128          11.0        4.0   \n",
       "\n",
       "   order_hour_of_day  days_since_prior_order  reordered  \n",
       "0                8.0                    14.0        1.0  \n",
       "1                8.0                    14.0        1.0  \n",
       "2                8.0                    14.0        0.0  \n",
       "3                8.0                    14.0        0.0  \n",
       "4                8.0                    14.0        1.0  "
      ]
     },
     "execution_count": 19,
     "metadata": {},
     "output_type": "execute_result"
    }
   ],
   "source": [
    "cols = ['aisle_id','department_id']\n",
    "for col in cols:\n",
    "    mean = orders_train_test.groupby(col).reordered.mean()\n",
    "    orders_train_test[col] = orders_train_test[col].map(mean)\n",
    "orders_train_test.head()"
   ]
  },
  {
   "cell_type": "markdown",
   "metadata": {},
   "source": [
    "## Split orders into training set and testing set"
   ]
  },
  {
   "cell_type": "code",
   "execution_count": 20,
   "metadata": {},
   "outputs": [],
   "source": [
    "X = orders_train_test.drop(columns='reordered')\n",
    "y = orders_train_test.reordered"
   ]
  },
  {
   "cell_type": "code",
   "execution_count": 21,
   "metadata": {},
   "outputs": [],
   "source": [
    "from sklearn.model_selection import train_test_split\n",
    "X_train, X_test, y_train, y_test = train_test_split(X, y, test_size=0.3, random_state=123)"
   ]
  },
  {
   "cell_type": "code",
   "execution_count": 22,
   "metadata": {},
   "outputs": [
    {
     "data": {
      "text/plain": [
       "(0.0    8735270\n",
       " 1.0     580297\n",
       " Name: reordered, dtype: int64,\n",
       " 0.0    3743859\n",
       " 1.0     248527\n",
       " Name: reordered, dtype: int64)"
      ]
     },
     "execution_count": 22,
     "metadata": {},
     "output_type": "execute_result"
    }
   ],
   "source": [
    "y_train.value_counts(), y_test.value_counts()"
   ]
  },
  {
   "cell_type": "code",
   "execution_count": 23,
   "metadata": {},
   "outputs": [
    {
     "data": {
      "text/plain": [
       "1.0    580297\n",
       "0.0    580297\n",
       "Name: reordered, dtype: int64"
      ]
     },
     "execution_count": 23,
     "metadata": {},
     "output_type": "execute_result"
    }
   ],
   "source": [
    "from sklearn.utils import resample\n",
    "\n",
    "# Combine them back for resampling\n",
    "train_data = pd.concat([X_train,y_train],axis=1)\n",
    "\n",
    "# Separate minority and majority classes\n",
    "negative = train_data[train_data.reordered==0]\n",
    "positive = train_data[train_data.reordered==1]\n",
    "\n",
    "# Downsample majority\n",
    "neg_downsampled = resample(negative, replace=True, n_samples=len(positive), random_state=27)\n",
    "\n",
    "# Combine minority and downsampled majority\n",
    "downsampled = pd.concat([positive,neg_downsampled])\n",
    "\n",
    "# Check new class counts\n",
    "downsampled.reordered.value_counts()"
   ]
  },
  {
   "cell_type": "code",
   "execution_count": 24,
   "metadata": {},
   "outputs": [],
   "source": [
    "# Re-split the data\n",
    "X = downsampled.drop(columns='reordered')\n",
    "y = downsampled.reordered\n",
    "X_train, X_test, y_train, y_test = train_test_split(X, y, test_size=0.3, stratify=y, random_state=123)"
   ]
  },
  {
   "cell_type": "code",
   "execution_count": 25,
   "metadata": {},
   "outputs": [
    {
     "data": {
      "text/plain": [
       "(1.0    406208\n",
       " 0.0    406207\n",
       " Name: reordered, dtype: int64,\n",
       " 0.0    174090\n",
       " 1.0    174089\n",
       " Name: reordered, dtype: int64)"
      ]
     },
     "execution_count": 25,
     "metadata": {},
     "output_type": "execute_result"
    }
   ],
   "source": [
    "y_train.value_counts(), y_test.value_counts()"
   ]
  },
  {
   "cell_type": "code",
   "execution_count": 26,
   "metadata": {},
   "outputs": [],
   "source": [
    "X_train = X_train.set_index(['user_id','product_id'])\n",
    "X_test = X_test.set_index(['user_id','product_id'])"
   ]
  },
  {
   "cell_type": "markdown",
   "metadata": {},
   "source": [
    "## Checking histograms"
   ]
  },
  {
   "cell_type": "code",
   "execution_count": 27,
   "metadata": {},
   "outputs": [
    {
     "data": {
      "image/png": "[encoded data removed]",
      "text/plain": [
       "<Figure size 1080x720 with 16 Axes>"
      ]
     },
     "metadata": {
      "needs_background": "light"
     },
     "output_type": "display_data"
    }
   ],
   "source": [
    "X_train.hist(figsize=(15,10))\n",
    "plt.subplots_adjust(hspace=0.5);"
   ]
  },
  {
   "cell_type": "markdown",
   "metadata": {},
   "source": [
    "## Scaling"
   ]
  },
  {
   "cell_type": "code",
   "execution_count": 28,
   "metadata": {},
   "outputs": [],
   "source": [
    "from sklearn.preprocessing import StandardScaler\n",
    "sc = StandardScaler()\n",
    "X_train = pd.DataFrame(sc.fit_transform(X_train),columns=X_train.columns)\n",
    "X_test = pd.DataFrame(sc.transform(X_test),columns=X_test.columns)"
   ]
  },
  {
   "cell_type": "code",
   "execution_count": 29,
   "metadata": {},
   "outputs": [
    {
     "data": {
      "text/html": [
       "<div>\n",
       "<style scoped>\n",
       "    .dataframe tbody tr th:only-of-type {\n",
       "        vertical-align: middle;\n",
       "    }\n",
       "\n",
       "    .dataframe tbody tr th {\n",
       "        vertical-align: top;\n",
       "    }\n",
       "\n",
       "    .dataframe thead th {\n",
       "        text-align: right;\n",
       "    }\n",
       "</style>\n",
       "<table border=\"1\" class=\"dataframe\">\n",
       "  <thead>\n",
       "    <tr style=\"text-align: right;\">\n",
       "      <th></th>\n",
       "      <th>user_reorder_ratio</th>\n",
       "      <th>user_total_orders</th>\n",
       "      <th>user_total_items</th>\n",
       "      <th>user_avg_days</th>\n",
       "      <th>user_avg_basket_size</th>\n",
       "      <th>prod_reorder_ratio</th>\n",
       "      <th>prod_num_purchases</th>\n",
       "      <th>aisle_id</th>\n",
       "      <th>department_id</th>\n",
       "      <th>order_number</th>\n",
       "      <th>order_dow</th>\n",
       "      <th>order_hour_of_day</th>\n",
       "      <th>days_since_prior_order</th>\n",
       "    </tr>\n",
       "  </thead>\n",
       "  <tbody>\n",
       "    <tr>\n",
       "      <th>0</th>\n",
       "      <td>0.056920</td>\n",
       "      <td>-0.600242</td>\n",
       "      <td>-0.729179</td>\n",
       "      <td>-1.570018</td>\n",
       "      <td>-0.955076</td>\n",
       "      <td>-1.760232</td>\n",
       "      <td>-0.431865</td>\n",
       "      <td>-1.832661</td>\n",
       "      <td>-2.113476</td>\n",
       "      <td>-0.362616</td>\n",
       "      <td>-0.986567</td>\n",
       "      <td>0.012144</td>\n",
       "      <td>-0.745616</td>\n",
       "    </tr>\n",
       "    <tr>\n",
       "      <th>1</th>\n",
       "      <td>-1.351199</td>\n",
       "      <td>-0.600242</td>\n",
       "      <td>-0.658511</td>\n",
       "      <td>0.575970</td>\n",
       "      <td>-0.638322</td>\n",
       "      <td>-1.384579</td>\n",
       "      <td>-0.410007</td>\n",
       "      <td>-0.430630</td>\n",
       "      <td>0.832504</td>\n",
       "      <td>-0.362616</td>\n",
       "      <td>1.709367</td>\n",
       "      <td>0.164299</td>\n",
       "      <td>0.437102</td>\n",
       "    </tr>\n",
       "    <tr>\n",
       "      <th>2</th>\n",
       "      <td>1.173220</td>\n",
       "      <td>1.902504</td>\n",
       "      <td>1.804769</td>\n",
       "      <td>-1.129350</td>\n",
       "      <td>0.016595</td>\n",
       "      <td>-0.824197</td>\n",
       "      <td>-0.418027</td>\n",
       "      <td>-0.776860</td>\n",
       "      <td>-1.029677</td>\n",
       "      <td>2.192687</td>\n",
       "      <td>0.361400</td>\n",
       "      <td>1.533694</td>\n",
       "      <td>-0.927573</td>\n",
       "    </tr>\n",
       "    <tr>\n",
       "      <th>3</th>\n",
       "      <td>0.905845</td>\n",
       "      <td>-0.359593</td>\n",
       "      <td>-0.470063</td>\n",
       "      <td>-0.674282</td>\n",
       "      <td>-0.522682</td>\n",
       "      <td>-2.107276</td>\n",
       "      <td>-0.371509</td>\n",
       "      <td>-1.582582</td>\n",
       "      <td>-2.107360</td>\n",
       "      <td>-0.903161</td>\n",
       "      <td>-0.986567</td>\n",
       "      <td>-1.661561</td>\n",
       "      <td>-1.109529</td>\n",
       "    </tr>\n",
       "    <tr>\n",
       "      <th>4</th>\n",
       "      <td>0.232434</td>\n",
       "      <td>-0.696501</td>\n",
       "      <td>-0.651781</td>\n",
       "      <td>1.745486</td>\n",
       "      <td>-0.265005</td>\n",
       "      <td>0.115776</td>\n",
       "      <td>-0.063989</td>\n",
       "      <td>-0.254865</td>\n",
       "      <td>-1.562404</td>\n",
       "      <td>-0.460897</td>\n",
       "      <td>-0.986567</td>\n",
       "      <td>0.772919</td>\n",
       "      <td>1.619820</td>\n",
       "    </tr>\n",
       "  </tbody>\n",
       "</table>\n",
       "</div>"
      ],
      "text/plain": [
       "   user_reorder_ratio  user_total_orders  user_total_items  user_avg_days  \\\n",
       "0            0.056920          -0.600242         -0.729179      -1.570018   \n",
       "1           -1.351199          -0.600242         -0.658511       0.575970   \n",
       "2            1.173220           1.902504          1.804769      -1.129350   \n",
       "3            0.905845          -0.359593         -0.470063      -0.674282   \n",
       "4            0.232434          -0.696501         -0.651781       1.745486   \n",
       "\n",
       "   user_avg_basket_size  prod_reorder_ratio  prod_num_purchases  aisle_id  \\\n",
       "0             -0.955076           -1.760232           -0.431865 -1.832661   \n",
       "1             -0.638322           -1.384579           -0.410007 -0.430630   \n",
       "2              0.016595           -0.824197           -0.418027 -0.776860   \n",
       "3             -0.522682           -2.107276           -0.371509 -1.582582   \n",
       "4             -0.265005            0.115776           -0.063989 -0.254865   \n",
       "\n",
       "   department_id  order_number  order_dow  order_hour_of_day  \\\n",
       "0      -2.113476     -0.362616  -0.986567           0.012144   \n",
       "1       0.832504     -0.362616   1.709367           0.164299   \n",
       "2      -1.029677      2.192687   0.361400           1.533694   \n",
       "3      -2.107360     -0.903161  -0.986567          -1.661561   \n",
       "4      -1.562404     -0.460897  -0.986567           0.772919   \n",
       "\n",
       "   days_since_prior_order  \n",
       "0               -0.745616  \n",
       "1                0.437102  \n",
       "2               -0.927573  \n",
       "3               -1.109529  \n",
       "4                1.619820  "
      ]
     },
     "execution_count": 29,
     "metadata": {},
     "output_type": "execute_result"
    }
   ],
   "source": [
    "X_train.head()"
   ]
  },
  {
   "cell_type": "markdown",
   "metadata": {},
   "source": [
    "# MODELING"
   ]
  },
  {
   "cell_type": "markdown",
   "metadata": {},
   "source": [
    "## Logistic Regression"
   ]
  },
  {
   "cell_type": "code",
   "execution_count": 30,
   "metadata": {},
   "outputs": [
    {
     "name": "stdout",
     "output_type": "stream",
     "text": [
      "0.7417362908159308\n"
     ]
    }
   ],
   "source": [
    "from sklearn.linear_model import LogisticRegression\n",
    "from sklearn.metrics import accuracy_score\n",
    "\n",
    "clf = LogisticRegression()\n",
    "# Fit the model on the training data.\n",
    "clf.fit(X_train, y_train)\n",
    "\n",
    "# Print the accuracy from the testing data.\n",
    "print(accuracy_score(y_test, clf.predict(X_test)))"
   ]
  },
  {
   "cell_type": "markdown",
   "metadata": {},
   "source": [
    "The accuracy without tuning the regularization parameter C is 0.7417."
   ]
  },
  {
   "cell_type": "code",
   "execution_count": 31,
   "metadata": {},
   "outputs": [
    {
     "data": {
      "text/html": [
       "<div>\n",
       "<style scoped>\n",
       "    .dataframe tbody tr th:only-of-type {\n",
       "        vertical-align: middle;\n",
       "    }\n",
       "\n",
       "    .dataframe tbody tr th {\n",
       "        vertical-align: top;\n",
       "    }\n",
       "\n",
       "    .dataframe thead th {\n",
       "        text-align: right;\n",
       "    }\n",
       "</style>\n",
       "<table border=\"1\" class=\"dataframe\">\n",
       "  <thead>\n",
       "    <tr style=\"text-align: right;\">\n",
       "      <th></th>\n",
       "      <th>C_parameter</th>\n",
       "      <th>Accuracy</th>\n",
       "    </tr>\n",
       "  </thead>\n",
       "  <tbody>\n",
       "    <tr>\n",
       "      <th>0</th>\n",
       "      <td>0.001</td>\n",
       "      <td>0.732615</td>\n",
       "    </tr>\n",
       "    <tr>\n",
       "      <th>1</th>\n",
       "      <td>0.010</td>\n",
       "      <td>0.739829</td>\n",
       "    </tr>\n",
       "    <tr>\n",
       "      <th>2</th>\n",
       "      <td>0.100</td>\n",
       "      <td>0.741484</td>\n",
       "    </tr>\n",
       "    <tr>\n",
       "      <th>3</th>\n",
       "      <td>1.000</td>\n",
       "      <td>0.741736</td>\n",
       "    </tr>\n",
       "    <tr>\n",
       "      <th>4</th>\n",
       "      <td>10.000</td>\n",
       "      <td>0.741728</td>\n",
       "    </tr>\n",
       "    <tr>\n",
       "      <th>5</th>\n",
       "      <td>100.000</td>\n",
       "      <td>0.741705</td>\n",
       "    </tr>\n",
       "  </tbody>\n",
       "</table>\n",
       "</div>"
      ],
      "text/plain": [
       "   C_parameter  Accuracy\n",
       "0        0.001  0.732615\n",
       "1        0.010  0.739829\n",
       "2        0.100  0.741484\n",
       "3        1.000  0.741736\n",
       "4       10.000  0.741728\n",
       "5      100.000  0.741705"
      ]
     },
     "execution_count": 31,
     "metadata": {},
     "output_type": "execute_result"
    }
   ],
   "source": [
    "# Tuning the regularization parameter, C\n",
    "\n",
    "C_param_range = [0.001,0.01,0.1,1,10,100]\n",
    "C_param_table = pd.DataFrame(columns = ['C_parameter','Accuracy'])\n",
    "C_param_table['C_parameter'] = C_param_range\n",
    "\n",
    "j = 0\n",
    "for C in C_param_range:\n",
    "    \n",
    "    # Apply logistic regression model to training data\n",
    "    logreg = LogisticRegression(C = C,random_state = 40)\n",
    "    logreg.fit(X_train,y_train)\n",
    "    \n",
    "    # Predict using model\n",
    "    y_pred_lr = logreg.predict(X_test)\n",
    "    \n",
    "    # Saving accuracy score in table\n",
    "    C_param_table.iloc[j,1] = accuracy_score(y_test,y_pred_lr)\n",
    "    j += 1\n",
    "    \n",
    "C_param_table"
   ]
  },
  {
   "cell_type": "markdown",
   "metadata": {},
   "source": [
    "The best C is 1."
   ]
  },
  {
   "cell_type": "code",
   "execution_count": 32,
   "metadata": {},
   "outputs": [
    {
     "name": "stdout",
     "output_type": "stream",
     "text": [
      "Time:  1.5416228520000033\n"
     ]
    }
   ],
   "source": [
    "import timeit\n",
    "\n",
    "# Using the best regularization parameter from above\n",
    "logreg = LogisticRegression(C=1)\n",
    "start = timeit.default_timer()\n",
    "logreg.fit(X_train, y_train)\n",
    "stop = timeit.default_timer()\n",
    "print('Time: ', stop-start)"
   ]
  },
  {
   "cell_type": "code",
   "execution_count": 33,
   "metadata": {},
   "outputs": [
    {
     "name": "stdout",
     "output_type": "stream",
     "text": [
      "Time:  0.006608262000000309\n",
      "0.7417362908159308\n"
     ]
    }
   ],
   "source": [
    "start = timeit.default_timer()\n",
    "y_pred_lr = logreg.predict(X_test)\n",
    "stop = timeit.default_timer()\n",
    "print('Time: ', stop-start)\n",
    "accuracy_lr = logreg.score(X_test,y_test)\n",
    "\n",
    "# Print the accuracy from the testing data.\n",
    "print(accuracy_lr)"
   ]
  },
  {
   "cell_type": "code",
   "execution_count": 34,
   "metadata": {},
   "outputs": [
    {
     "name": "stdout",
     "output_type": "stream",
     "text": [
      "[[107948  66142]\n",
      " [ 23780 150309]]\n"
     ]
    }
   ],
   "source": [
    "from sklearn.metrics import confusion_matrix\n",
    "\n",
    "conf_matrix= confusion_matrix(y_test,y_pred_lr)\n",
    "print(conf_matrix)"
   ]
  },
  {
   "cell_type": "code",
   "execution_count": 35,
   "metadata": {},
   "outputs": [
    {
     "name": "stdout",
     "output_type": "stream",
     "text": [
      "0.6944250661812604\n"
     ]
    }
   ],
   "source": [
    "from sklearn.metrics import precision_score\n",
    "\n",
    "precision_lr = precision_score(y_test,y_pred_lr)\n",
    "print(precision_lr)"
   ]
  },
  {
   "cell_type": "code",
   "execution_count": 36,
   "metadata": {},
   "outputs": [
    {
     "name": "stdout",
     "output_type": "stream",
     "text": [
      "0.8634032018105682\n"
     ]
    }
   ],
   "source": [
    "from sklearn.metrics import recall_score\n",
    "\n",
    "recall_lr = recall_score(y_test,y_pred_lr)\n",
    "print(recall_lr)"
   ]
  },
  {
   "cell_type": "code",
   "execution_count": 37,
   "metadata": {},
   "outputs": [
    {
     "name": "stdout",
     "output_type": "stream",
     "text": [
      "[0.82307844 0.82017121 0.81753286 0.82137512 0.81865031]\n",
      "Mean cross validation train score: 0.8216126051150325\n",
      "Mean cross validation test score: 0.8201615872179879\n",
      "Standard deviation in cv test scores: 0.0019583137511797436\n"
     ]
    }
   ],
   "source": [
    "from sklearn.model_selection import cross_val_score\n",
    "\n",
    "# Compute the ROC-AUC scores from cross-validation\n",
    "cv_scores_test= cross_val_score(logreg,X_test,y_test,cv=5,scoring='roc_auc')\n",
    "cv_scores_train= cross_val_score(logreg,X_train,y_train,cv=5,scoring='roc_auc')\n",
    "print(cv_scores_test)\n",
    "cv_scores_lr_test= cv_scores_test.mean()\n",
    "cv_scores_lr_train= cv_scores_train.mean()\n",
    "cv_scores_std_test_lr= cv_scores_test.std()\n",
    "print ('Mean cross validation train score: ' +str(cv_scores_lr_train))\n",
    "print ('Mean cross validation test score: ' +str(cv_scores_lr_test))\n",
    "print ('Standard deviation in cv test scores: ' +str(cv_scores_std_test_lr))"
   ]
  },
  {
   "cell_type": "markdown",
   "metadata": {},
   "source": [
    "## Gradient Boosting"
   ]
  },
  {
   "cell_type": "code",
   "execution_count": 38,
   "metadata": {},
   "outputs": [
    {
     "name": "stdout",
     "output_type": "stream",
     "text": [
      "Time:  154.663767118\n"
     ]
    }
   ],
   "source": [
    "from sklearn.ensemble import GradientBoostingClassifier\n",
    "\n",
    "gb = GradientBoostingClassifier()\n",
    "start = timeit.default_timer()\n",
    "gb.fit(X_train, y_train)\n",
    "stop = timeit.default_timer()\n",
    "print('Time: ', stop-start)"
   ]
  },
  {
   "cell_type": "code",
   "execution_count": 39,
   "metadata": {},
   "outputs": [
    {
     "name": "stdout",
     "output_type": "stream",
     "text": [
      "Time:  0.5600944130000016\n",
      "[[112615  61475]\n",
      " [ 25147 148942]]\n",
      "0.7512141743183822\n"
     ]
    }
   ],
   "source": [
    "start = timeit.default_timer()\n",
    "y_pred_gb = gb.predict(X_test)\n",
    "stop = timeit.default_timer()\n",
    "print('Time: ', stop-start)\n",
    "\n",
    "conf_matrix = confusion_matrix(y_test, y_pred_gb)\n",
    "print(conf_matrix)\n",
    "\n",
    "accuracy_gb=gb.score(X_test,y_test)\n",
    "print(accuracy_gb)"
   ]
  },
  {
   "cell_type": "code",
   "execution_count": 40,
   "metadata": {},
   "outputs": [
    {
     "name": "stdout",
     "output_type": "stream",
     "text": [
      "0.7078420469828959\n"
     ]
    }
   ],
   "source": [
    "precision_gb = precision_score(y_test,y_pred_gb)\n",
    "print(precision_gb)"
   ]
  },
  {
   "cell_type": "code",
   "execution_count": 41,
   "metadata": {},
   "outputs": [
    {
     "name": "stdout",
     "output_type": "stream",
     "text": [
      "0.8555508963805869\n"
     ]
    }
   ],
   "source": [
    "recall_gb = recall_score(y_test,y_pred_gb)\n",
    "print(recall_gb)"
   ]
  },
  {
   "cell_type": "code",
   "execution_count": 42,
   "metadata": {},
   "outputs": [
    {
     "name": "stdout",
     "output_type": "stream",
     "text": [
      "[0.83421555 0.83194498 0.8308182  0.83397015 0.83221713]\n",
      "Mean cross validation train score: 0.834043879090266\n",
      "Mean cross validation test score: 0.832633200373752\n",
      "Standard deviation in cv test scores: 0.001283139552285283\n"
     ]
    }
   ],
   "source": [
    "cv_scores_test= cross_val_score(gb,X_test,y_test,cv=5,scoring='roc_auc')\n",
    "cv_scores_train= cross_val_score(gb,X_train,y_train,cv=5,scoring='roc_auc')\n",
    "print(cv_scores_test)\n",
    "cv_scores_gb_test= cv_scores_test.mean()\n",
    "cv_scores_gb_train= cv_scores_train.mean()\n",
    "cv_scores_std_test_gb= cv_scores_test.std()\n",
    "print ('Mean cross validation train score: ' +str(cv_scores_gb_train))\n",
    "print ('Mean cross validation test score: ' +str(cv_scores_gb_test))\n",
    "print ('Standard deviation in cv test scores: ' +str(cv_scores_std_test_gb))"
   ]
  },
  {
   "cell_type": "markdown",
   "metadata": {},
   "source": [
    "## Random Forest"
   ]
  },
  {
   "cell_type": "code",
   "execution_count": 43,
   "metadata": {},
   "outputs": [
    {
     "name": "stdout",
     "output_type": "stream",
     "text": [
      "Time:  216.2062625609999\n"
     ]
    }
   ],
   "source": [
    "from sklearn.ensemble import RandomForestClassifier\n",
    "\n",
    "rf = RandomForestClassifier(bootstrap=True,n_estimators=100,criterion='entropy')\n",
    "start = timeit.default_timer()\n",
    "rf.fit(X_train, y_train)\n",
    "stop = timeit.default_timer()\n",
    "print('Time: ', stop-start)"
   ]
  },
  {
   "cell_type": "code",
   "execution_count": 44,
   "metadata": {},
   "outputs": [
    {
     "name": "stdout",
     "output_type": "stream",
     "text": [
      "Time:  10.847560887999862\n",
      "[[119071  55019]\n",
      " [ 28772 145317]]\n",
      "0.7593450495291215\n"
     ]
    }
   ],
   "source": [
    "start = timeit.default_timer()\n",
    "y_pred_rf = rf.predict(X_test)\n",
    "stop = timeit.default_timer()\n",
    "print('Time: ', stop-start)\n",
    "\n",
    "conf_matrix = confusion_matrix(y_test, y_pred_rf)\n",
    "print(conf_matrix)\n",
    "\n",
    "accuracy_rf=rf.score(X_test,y_test)\n",
    "print(accuracy_rf)"
   ]
  },
  {
   "cell_type": "code",
   "execution_count": 45,
   "metadata": {},
   "outputs": [
    {
     "name": "stdout",
     "output_type": "stream",
     "text": [
      "0.7253663844740835\n"
     ]
    }
   ],
   "source": [
    "precision_rf = precision_score(y_test,y_pred_rf)\n",
    "print(precision_rf)"
   ]
  },
  {
   "cell_type": "code",
   "execution_count": 46,
   "metadata": {},
   "outputs": [
    {
     "name": "stdout",
     "output_type": "stream",
     "text": [
      "0.8347282137297589\n"
     ]
    }
   ],
   "source": [
    "recall_rf = recall_score(y_test,y_pred_rf)\n",
    "print(recall_rf)"
   ]
  },
  {
   "cell_type": "code",
   "execution_count": 47,
   "metadata": {},
   "outputs": [
    {
     "name": "stdout",
     "output_type": "stream",
     "text": [
      "[0.83159635 0.82906846 0.82869026 0.83130456 0.82955381]\n",
      "Mean cross validation train score: 0.8374776144521201\n",
      "Mean cross validation test score: 0.8300426889008291\n",
      "Standard deviation in cv test scores: 0.0011851896952174991\n"
     ]
    }
   ],
   "source": [
    "cv_scores_test= cross_val_score(rf,X_test,y_test,cv=5,scoring='roc_auc')\n",
    "cv_scores_train= cross_val_score(rf,X_train,y_train,cv=5,scoring='roc_auc')\n",
    "print(cv_scores_test)\n",
    "cv_scores_rf_test= cv_scores_test.mean()\n",
    "cv_scores_rf_train= cv_scores_train.mean()\n",
    "cv_scores_std_test_rf= cv_scores_test.std()\n",
    "print ('Mean cross validation train score: ' +str(cv_scores_rf_train))\n",
    "print ('Mean cross validation test score: ' +str(cv_scores_rf_test))\n",
    "print ('Standard deviation in cv test scores: ' +str(cv_scores_std_test_rf))"
   ]
  },
  {
   "cell_type": "code",
   "execution_count": 48,
   "metadata": {},
   "outputs": [
    {
     "data": {
      "text/plain": [
       "Text(0, 0.5, 'Feature Importance Score')"
      ]
     },
     "execution_count": 48,
     "metadata": {},
     "output_type": "execute_result"
    },
    {
     "data": {
      "image/png": "[encoded data removed]",
      "text/plain": [
       "<Figure size 432x288 with 1 Axes>"
      ]
     },
     "metadata": {
      "needs_background": "light"
     },
     "output_type": "display_data"
    }
   ],
   "source": [
    "predictors = list(X_train)\n",
    "feat_imp = pd.Series(rf.feature_importances_, predictors).sort_values(ascending=False)\n",
    "feat_imp.plot(kind='bar',title='Importance of Features')\n",
    "plt.ylabel('Feature Importance Score')"
   ]
  },
  {
   "cell_type": "markdown",
   "metadata": {},
   "source": [
    "## Model Comparison"
   ]
  },
  {
   "cell_type": "code",
   "execution_count": 51,
   "metadata": {},
   "outputs": [
    {
     "data": {
      "text/html": [
       "<div>\n",
       "<style scoped>\n",
       "    .dataframe tbody tr th:only-of-type {\n",
       "        vertical-align: middle;\n",
       "    }\n",
       "\n",
       "    .dataframe tbody tr th {\n",
       "        vertical-align: top;\n",
       "    }\n",
       "\n",
       "    .dataframe thead th {\n",
       "        text-align: right;\n",
       "    }\n",
       "</style>\n",
       "<table border=\"1\" class=\"dataframe\">\n",
       "  <thead>\n",
       "    <tr style=\"text-align: right;\">\n",
       "      <th></th>\n",
       "      <th>Algorithm</th>\n",
       "      <th>Model Accuracy Score</th>\n",
       "    </tr>\n",
       "  </thead>\n",
       "  <tbody>\n",
       "    <tr>\n",
       "      <th>0</th>\n",
       "      <td>Logistic Regression</td>\n",
       "      <td>0.741736</td>\n",
       "    </tr>\n",
       "    <tr>\n",
       "      <th>1</th>\n",
       "      <td>Gradient Boosting</td>\n",
       "      <td>0.751214</td>\n",
       "    </tr>\n",
       "    <tr>\n",
       "      <th>2</th>\n",
       "      <td>Random Forest</td>\n",
       "      <td>0.759345</td>\n",
       "    </tr>\n",
       "  </tbody>\n",
       "</table>\n",
       "</div>"
      ],
      "text/plain": [
       "             Algorithm  Model Accuracy Score\n",
       "0  Logistic Regression              0.741736\n",
       "1    Gradient Boosting              0.751214\n",
       "2        Random Forest              0.759345"
      ]
     },
     "execution_count": 51,
     "metadata": {},
     "output_type": "execute_result"
    }
   ],
   "source": [
    "labels = ['Logistic Regression','Gradient Boosting','Random Forest']\n",
    "scores_test= [cv_scores_lr_test,cv_scores_gb_test,cv_scores_rf_test]\n",
    "scores_train= [cv_scores_lr_train,cv_scores_gb_train,cv_scores_rf_train]\n",
    "accuracy_scores = [accuracy_lr,accuracy_gb,accuracy_rf]\n",
    "\n",
    "score_tab_acc = pd.DataFrame(list(zip(labels, accuracy_scores)), \n",
    "               columns =['Algorithm', 'Model Accuracy Score']) \n",
    "\n",
    "score_tab = pd.DataFrame(list(zip(labels, scores_train, scores_test)), \n",
    "               columns =['Algorithm', 'ROC-AUC Train Score', 'ROC-AUC Test Score' ])\n",
    "\n",
    "score_tab_acc"
   ]
  },
  {
   "cell_type": "code",
   "execution_count": 52,
   "metadata": {},
   "outputs": [
    {
     "data": {
      "text/html": [
       "<div>\n",
       "<style scoped>\n",
       "    .dataframe tbody tr th:only-of-type {\n",
       "        vertical-align: middle;\n",
       "    }\n",
       "\n",
       "    .dataframe tbody tr th {\n",
       "        vertical-align: top;\n",
       "    }\n",
       "\n",
       "    .dataframe thead th {\n",
       "        text-align: right;\n",
       "    }\n",
       "</style>\n",
       "<table border=\"1\" class=\"dataframe\">\n",
       "  <thead>\n",
       "    <tr style=\"text-align: right;\">\n",
       "      <th></th>\n",
       "      <th>Algorithm</th>\n",
       "      <th>ROC-AUC Train Score</th>\n",
       "      <th>ROC-AUC Test Score</th>\n",
       "    </tr>\n",
       "  </thead>\n",
       "  <tbody>\n",
       "    <tr>\n",
       "      <th>0</th>\n",
       "      <td>Logistic Regression</td>\n",
       "      <td>0.821613</td>\n",
       "      <td>0.820162</td>\n",
       "    </tr>\n",
       "    <tr>\n",
       "      <th>1</th>\n",
       "      <td>Gradient Boosting</td>\n",
       "      <td>0.834044</td>\n",
       "      <td>0.832633</td>\n",
       "    </tr>\n",
       "    <tr>\n",
       "      <th>2</th>\n",
       "      <td>Random Forest</td>\n",
       "      <td>0.837478</td>\n",
       "      <td>0.830043</td>\n",
       "    </tr>\n",
       "  </tbody>\n",
       "</table>\n",
       "</div>"
      ],
      "text/plain": [
       "             Algorithm  ROC-AUC Train Score  ROC-AUC Test Score\n",
       "0  Logistic Regression             0.821613            0.820162\n",
       "1    Gradient Boosting             0.834044            0.832633\n",
       "2        Random Forest             0.837478            0.830043"
      ]
     },
     "execution_count": 52,
     "metadata": {},
     "output_type": "execute_result"
    }
   ],
   "source": [
    "score_tab"
   ]
  },
  {
   "cell_type": "code",
   "execution_count": 53,
   "metadata": {},
   "outputs": [
    {
     "data": {
      "text/html": [
       "<div>\n",
       "<style scoped>\n",
       "    .dataframe tbody tr th:only-of-type {\n",
       "        vertical-align: middle;\n",
       "    }\n",
       "\n",
       "    .dataframe tbody tr th {\n",
       "        vertical-align: top;\n",
       "    }\n",
       "\n",
       "    .dataframe thead th {\n",
       "        text-align: right;\n",
       "    }\n",
       "</style>\n",
       "<table border=\"1\" class=\"dataframe\">\n",
       "  <thead>\n",
       "    <tr style=\"text-align: right;\">\n",
       "      <th></th>\n",
       "      <th>Algorithm</th>\n",
       "      <th>Model Precision Score</th>\n",
       "    </tr>\n",
       "  </thead>\n",
       "  <tbody>\n",
       "    <tr>\n",
       "      <th>0</th>\n",
       "      <td>Logistic Regression</td>\n",
       "      <td>0.694425</td>\n",
       "    </tr>\n",
       "    <tr>\n",
       "      <th>1</th>\n",
       "      <td>Gradient Boosting</td>\n",
       "      <td>0.707842</td>\n",
       "    </tr>\n",
       "    <tr>\n",
       "      <th>2</th>\n",
       "      <td>Random Forest</td>\n",
       "      <td>0.725366</td>\n",
       "    </tr>\n",
       "  </tbody>\n",
       "</table>\n",
       "</div>"
      ],
      "text/plain": [
       "             Algorithm  Model Precision Score\n",
       "0  Logistic Regression               0.694425\n",
       "1    Gradient Boosting               0.707842\n",
       "2        Random Forest               0.725366"
      ]
     },
     "execution_count": 53,
     "metadata": {},
     "output_type": "execute_result"
    }
   ],
   "source": [
    "precision_scores = [precision_lr,precision_gb,precision_rf]\n",
    "precision_tab = pd.DataFrame(list(zip(labels, precision_scores)), \n",
    "               columns =['Algorithm', 'Model Precision Score']) \n",
    "precision_tab"
   ]
  },
  {
   "cell_type": "code",
   "execution_count": 54,
   "metadata": {},
   "outputs": [
    {
     "data": {
      "text/html": [
       "<div>\n",
       "<style scoped>\n",
       "    .dataframe tbody tr th:only-of-type {\n",
       "        vertical-align: middle;\n",
       "    }\n",
       "\n",
       "    .dataframe tbody tr th {\n",
       "        vertical-align: top;\n",
       "    }\n",
       "\n",
       "    .dataframe thead th {\n",
       "        text-align: right;\n",
       "    }\n",
       "</style>\n",
       "<table border=\"1\" class=\"dataframe\">\n",
       "  <thead>\n",
       "    <tr style=\"text-align: right;\">\n",
       "      <th></th>\n",
       "      <th>Algorithm</th>\n",
       "      <th>Model Recall Score</th>\n",
       "    </tr>\n",
       "  </thead>\n",
       "  <tbody>\n",
       "    <tr>\n",
       "      <th>0</th>\n",
       "      <td>Logistic Regression</td>\n",
       "      <td>0.863403</td>\n",
       "    </tr>\n",
       "    <tr>\n",
       "      <th>1</th>\n",
       "      <td>Gradient Boosting</td>\n",
       "      <td>0.855551</td>\n",
       "    </tr>\n",
       "    <tr>\n",
       "      <th>2</th>\n",
       "      <td>Random Forest</td>\n",
       "      <td>0.834728</td>\n",
       "    </tr>\n",
       "  </tbody>\n",
       "</table>\n",
       "</div>"
      ],
      "text/plain": [
       "             Algorithm  Model Recall Score\n",
       "0  Logistic Regression            0.863403\n",
       "1    Gradient Boosting            0.855551\n",
       "2        Random Forest            0.834728"
      ]
     },
     "execution_count": 54,
     "metadata": {},
     "output_type": "execute_result"
    }
   ],
   "source": [
    "recall_scores = [recall_lr,recall_gb,recall_rf]\n",
    "recall_tab = pd.DataFrame(list(zip(labels, recall_scores)), \n",
    "               columns =['Algorithm', 'Model Recall Score']) \n",
    "recall_tab"
   ]
  },
  {
   "cell_type": "code",
   "execution_count": 57,
   "metadata": {},
   "outputs": [
    {
     "data": {
      "text/plain": [
       "([<matplotlib.axis.XTick at 0x7f933646d370>,\n",
       "  <matplotlib.axis.XTick at 0x7f8fa8bdc070>,\n",
       "  <matplotlib.axis.XTick at 0x7f8fbe05d400>],\n",
       " [Text(0, 0, 'Logistic Regression'),\n",
       "  Text(0, 0, 'Gradient Boosting'),\n",
       "  Text(0, 0, 'Random Forest')])"
      ]
     },
     "execution_count": 57,
     "metadata": {},
     "output_type": "execute_result"
    },
    {
     "data": {
      "image/png": "[encoded data removed]",
      "text/plain": [
       "<Figure size 720x360 with 1 Axes>"
      ]
     },
     "metadata": {
      "needs_background": "light"
     },
     "output_type": "display_data"
    }
   ],
   "source": [
    "# Plotting the accuracy scores\n",
    "index=[1,2,3]\n",
    "index_acc=[1.2,2.2,3.2]\n",
    "plt.figure(figsize=(10,5))\n",
    "plt.xlabel('Models',fontsize=15)\n",
    "plt.ylabel ('Model Accuracy Scores',fontsize=15)\n",
    "plt.title('Accuracy Comparison of the Algorithms',fontsize=15)\n",
    "_=plt.bar(index_acc,accuracy_scores,color='green',alpha=0.8,label='Accuracy Scores',edgecolor='k',width=0.3)\n",
    "plt.xticks([1,2,3], labels)"
   ]
  },
  {
   "cell_type": "code",
   "execution_count": 58,
   "metadata": {},
   "outputs": [
    {
     "data": {
      "text/plain": [
       "<matplotlib.legend.Legend at 0x7f8fa8b57430>"
      ]
     },
     "execution_count": 58,
     "metadata": {},
     "output_type": "execute_result"
    },
    {
     "data": {
      "image/png": "[encoded data removed]",
      "text/plain": [
       "<Figure size 720x360 with 1 Axes>"
      ]
     },
     "metadata": {
      "needs_background": "light"
     },
     "output_type": "display_data"
    }
   ],
   "source": [
    "# Plotting and comparing ROC-AUC train/test scores\n",
    "index=[1,2,3]\n",
    "index_acc=[1.2,2.2,3.2]\n",
    "plt.figure(figsize=(10,5))\n",
    "plt.xlabel('Models',fontsize=15)\n",
    "plt.ylabel ('ROC-AUC Scores',fontsize=15)\n",
    "plt.title('ROC-AUC Score Comparison of the Algorithms',fontsize=15)\n",
    "_=plt.bar(index,scores_train,color='b',alpha=0.6,label='Training Score',edgecolor='k',width=0.2)\n",
    "_=plt.bar(index_acc,scores_test,color='cyan',alpha=0.8,label='Test Score',edgecolor='k',width=0.2)\n",
    "plt.xticks([1,2,3], labels)\n",
    "plt.legend()"
   ]
  },
  {
   "cell_type": "code",
   "execution_count": 59,
   "metadata": {},
   "outputs": [
    {
     "data": {
      "text/plain": [
       "<matplotlib.legend.Legend at 0x7f8fa8d6a760>"
      ]
     },
     "execution_count": 59,
     "metadata": {},
     "output_type": "execute_result"
    },
    {
     "data": {
      "image/png": "[encoded data removed]",
      "text/plain": [
       "<Figure size 720x360 with 1 Axes>"
      ]
     },
     "metadata": {
      "needs_background": "light"
     },
     "output_type": "display_data"
    }
   ],
   "source": [
    "# Plotting and comparing precision and recall scores\n",
    "index=[1,2,3]\n",
    "index_acc=[1.2,2.2,3.2]\n",
    "plt.figure(figsize=(10,5))\n",
    "plt.xlabel('Models',fontsize=15)\n",
    "plt.ylabel ('Precision and Recall Scores',fontsize=15)\n",
    "plt.title('Precision and Recall Score Comparison of the Algorithms',fontsize=15)\n",
    "_=plt.bar(index,precision_scores,color='b',alpha=0.6,label='Precision Score',edgecolor='k',width=0.2)\n",
    "_=plt.bar(index_acc,recall_scores,color='cyan',alpha=0.8,label='Recall Score',edgecolor='k',width=0.2)\n",
    "plt.xticks([1,2,3], labels)\n",
    "plt.legend()"
   ]
  },
  {
   "cell_type": "markdown",
   "metadata": {},
   "source": [
    "The three models have comparable accuracy, ROC-AUC, precision, and recall scores. However, the Random Forest model is slightly better in terms of accuracy and precision. Additionally, the Random Forest model allows me to easily extract the feature importances. On the other hand, the Random Forest model took the longest amount of time to train and make predictions, but this is a tradeoff I'm willing to accept. Therefore, I conclude that the Random Forest model is the best model. "
   ]
  }
 ],
 "metadata": {
  "kernelspec": {
   "display_name": "Python 3",
   "language": "python",
   "name": "python3"
  },
  "language_info": {
   "codemirror_mode": {
    "name": "ipython",
    "version": 3
   },
   "file_extension": ".py",
   "mimetype": "text/x-python",
   "name": "python",
   "nbconvert_exporter": "python",
   "pygments_lexer": "ipython3",
   "version": "3.8.3"
  }
 },
 "nbformat": 4,
 "nbformat_minor": 4
}
